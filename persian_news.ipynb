{
  "nbformat": 4,
  "nbformat_minor": 0,
  "metadata": {
    "colab": {
      "name": "persian_news_(2).ipynb",
      "provenance": [],
      "collapsed_sections": []
    },
    "kernelspec": {
      "name": "python3",
      "display_name": "Python 3"
    },
    "language_info": {
      "name": "python"
    },
    "accelerator": "GPU"
  },
  "cells": [
    {
      "cell_type": "markdown",
      "metadata": {
        "id": "ShQmroLWWnd-"
      },
      "source": [
        "Bidirectional"
      ]
    },
    {
      "cell_type": "code",
      "metadata": {
        "id": "h2mmgyLp9dk_"
      },
      "source": [
        "import tensorflow as tf\n",
        "gpus =tf.config.experimental.list_physical_devices('GPU')\n",
        "gpu = gpus[0]\n",
        "\n",
        "tf.config.experimental.set_memory_growth(gpu, True)"
      ],
      "execution_count": null,
      "outputs": []
    },
    {
      "cell_type": "code",
      "metadata": {
        "id": "EJSxDoE8Bio1",
        "colab": {
          "base_uri": "https://localhost:8080/"
        },
        "outputId": "8a3d06fd-81c0-4415-f138-067516777d94"
      },
      "source": [
        "!pip install hazm\n",
        "#!pip install tensorflow-gpu"
      ],
      "execution_count": null,
      "outputs": [
        {
          "output_type": "stream",
          "text": [
            "Collecting hazm\n",
            "  Downloading hazm-0.7.0-py3-none-any.whl (316 kB)\n",
            "\u001b[?25l\r\u001b[K     |█                               | 10 kB 36.5 MB/s eta 0:00:01\r\u001b[K     |██                              | 20 kB 30.7 MB/s eta 0:00:01\r\u001b[K     |███                             | 30 kB 18.9 MB/s eta 0:00:01\r\u001b[K     |████▏                           | 40 kB 16.2 MB/s eta 0:00:01\r\u001b[K     |█████▏                          | 51 kB 9.1 MB/s eta 0:00:01\r\u001b[K     |██████▏                         | 61 kB 9.1 MB/s eta 0:00:01\r\u001b[K     |███████▎                        | 71 kB 9.6 MB/s eta 0:00:01\r\u001b[K     |████████▎                       | 81 kB 9.8 MB/s eta 0:00:01\r\u001b[K     |█████████▎                      | 92 kB 9.9 MB/s eta 0:00:01\r\u001b[K     |██████████▍                     | 102 kB 10.8 MB/s eta 0:00:01\r\u001b[K     |███████████▍                    | 112 kB 10.8 MB/s eta 0:00:01\r\u001b[K     |████████████▍                   | 122 kB 10.8 MB/s eta 0:00:01\r\u001b[K     |█████████████▌                  | 133 kB 10.8 MB/s eta 0:00:01\r\u001b[K     |██████████████▌                 | 143 kB 10.8 MB/s eta 0:00:01\r\u001b[K     |███████████████▌                | 153 kB 10.8 MB/s eta 0:00:01\r\u001b[K     |████████████████▋               | 163 kB 10.8 MB/s eta 0:00:01\r\u001b[K     |█████████████████▋              | 174 kB 10.8 MB/s eta 0:00:01\r\u001b[K     |██████████████████▋             | 184 kB 10.8 MB/s eta 0:00:01\r\u001b[K     |███████████████████▋            | 194 kB 10.8 MB/s eta 0:00:01\r\u001b[K     |████████████████████▊           | 204 kB 10.8 MB/s eta 0:00:01\r\u001b[K     |█████████████████████▊          | 215 kB 10.8 MB/s eta 0:00:01\r\u001b[K     |██████████████████████▊         | 225 kB 10.8 MB/s eta 0:00:01\r\u001b[K     |███████████████████████▉        | 235 kB 10.8 MB/s eta 0:00:01\r\u001b[K     |████████████████████████▉       | 245 kB 10.8 MB/s eta 0:00:01\r\u001b[K     |█████████████████████████▉      | 256 kB 10.8 MB/s eta 0:00:01\r\u001b[K     |███████████████████████████     | 266 kB 10.8 MB/s eta 0:00:01\r\u001b[K     |████████████████████████████    | 276 kB 10.8 MB/s eta 0:00:01\r\u001b[K     |█████████████████████████████   | 286 kB 10.8 MB/s eta 0:00:01\r\u001b[K     |██████████████████████████████  | 296 kB 10.8 MB/s eta 0:00:01\r\u001b[K     |███████████████████████████████ | 307 kB 10.8 MB/s eta 0:00:01\r\u001b[K     |████████████████████████████████| 316 kB 10.8 MB/s \n",
            "\u001b[?25hCollecting libwapiti>=0.2.1\n",
            "  Downloading libwapiti-0.2.1.tar.gz (233 kB)\n",
            "\u001b[K     |████████████████████████████████| 233 kB 59.7 MB/s \n",
            "\u001b[?25hCollecting nltk==3.3\n",
            "  Downloading nltk-3.3.0.zip (1.4 MB)\n",
            "\u001b[K     |████████████████████████████████| 1.4 MB 55.9 MB/s \n",
            "\u001b[?25hRequirement already satisfied: six in /usr/local/lib/python3.7/dist-packages (from nltk==3.3->hazm) (1.15.0)\n",
            "Building wheels for collected packages: nltk, libwapiti\n",
            "  Building wheel for nltk (setup.py) ... \u001b[?25l\u001b[?25hdone\n",
            "  Created wheel for nltk: filename=nltk-3.3-py3-none-any.whl size=1394489 sha256=c9bdf68062609fb6ba747b3a2f9906a36bfcf54ed5b004708e7fcdbc58afe882\n",
            "  Stored in directory: /root/.cache/pip/wheels/9b/fd/0c/d92302c876e5de87ebd7fc0979d82edb93e2d8d768bf71fac4\n",
            "  Building wheel for libwapiti (setup.py) ... \u001b[?25l\u001b[?25hdone\n",
            "  Created wheel for libwapiti: filename=libwapiti-0.2.1-cp37-cp37m-linux_x86_64.whl size=155184 sha256=75a12709adca8b184a19324d26c38dccae71b33ec3076de6d0a8e875e026040c\n",
            "  Stored in directory: /root/.cache/pip/wheels/ab/b2/5b/0fe4b8f5c0e65341e8ea7bb3f4a6ebabfe8b1ac31322392dbf\n",
            "Successfully built nltk libwapiti\n",
            "Installing collected packages: nltk, libwapiti, hazm\n",
            "  Attempting uninstall: nltk\n",
            "    Found existing installation: nltk 3.2.5\n",
            "    Uninstalling nltk-3.2.5:\n",
            "      Successfully uninstalled nltk-3.2.5\n",
            "Successfully installed hazm-0.7.0 libwapiti-0.2.1 nltk-3.3\n"
          ],
          "name": "stdout"
        }
      ]
    },
    {
      "cell_type": "code",
      "metadata": {
        "id": "BV_Ki2tnBqCS"
      },
      "source": [
        "import numpy as np\n",
        "import pandas as pd\n",
        "from tensorflow.keras import optimizers\n",
        "from tensorflow.keras.models import Model, Sequential\n",
        "from tensorflow.keras.layers import Dense, Input, Embedding, Dropout, GlobalMaxPool1D\n",
        "from tensorflow.keras.layers import LSTM, Bidirectional\n",
        "from tensorflow.keras.utils import to_categorical\n",
        "from tensorflow.keras.preprocessing.text import Tokenizer\n",
        "from tensorflow.keras.preprocessing.sequence import pad_sequences\n",
        "from hazm import *\n",
        "import matplotlib.pyplot as plt\n",
        "from termcolor import colored\n",
        "from sklearn.model_selection import train_test_split\n",
        "from sklearn.metrics import confusion_matrix, precision_score, recall_score, accuracy_score\n",
        "from mlxtend.plotting import plot_confusion_matrix\n",
        "import tensorflow as tf\n",
        "from tensorflow.keras.optimizers import Adam\n",
        "from tensorflow.keras.callbacks import ModelCheckpoint, EarlyStopping\n",
        "from tensorflow.keras.utils import plot_model"
      ],
      "execution_count": null,
      "outputs": []
    },
    {
      "cell_type": "code",
      "metadata": {
        "id": "TFxkneX4CXM2",
        "colab": {
          "base_uri": "https://localhost:8080/"
        },
        "outputId": "27f3ac80-8e03-4e62-8f0f-9590951152d2"
      },
      "source": [
        "from google.colab import drive\n",
        "drive.mount('/content/drive')"
      ],
      "execution_count": null,
      "outputs": [
        {
          "output_type": "stream",
          "text": [
            "Mounted at /content/drive\n"
          ],
          "name": "stdout"
        }
      ]
    },
    {
      "cell_type": "code",
      "metadata": {
        "id": "YSAjYealCizl",
        "colab": {
          "base_uri": "https://localhost:8080/"
        },
        "outputId": "e2d30c0a-873d-410d-f746-1e3b2e4297ac"
      },
      "source": [
        "%cd /content/drive/MyDrive/persian_news"
      ],
      "execution_count": null,
      "outputs": [
        {
          "output_type": "stream",
          "text": [
            "/content/drive/MyDrive/persian_news\n"
          ],
          "name": "stdout"
        }
      ]
    },
    {
      "cell_type": "code",
      "metadata": {
        "id": "X17LRqIWCmi3",
        "colab": {
          "base_uri": "https://localhost:8080/",
          "height": 419
        },
        "outputId": "0b0998d2-c32f-4edd-91d5-29704ef71e48"
      },
      "source": [
        "data=pd.read_csv('/content/drive/MyDrive/persian_news/persian_news/train.csv', sep='\\t', encoding=\"utf-8\")\n",
        "data"
      ],
      "execution_count": null,
      "outputs": [
        {
          "output_type": "execute_result",
          "data": {
            "text/html": [
              "<div>\n",
              "<style scoped>\n",
              "    .dataframe tbody tr th:only-of-type {\n",
              "        vertical-align: middle;\n",
              "    }\n",
              "\n",
              "    .dataframe tbody tr th {\n",
              "        vertical-align: top;\n",
              "    }\n",
              "\n",
              "    .dataframe thead th {\n",
              "        text-align: right;\n",
              "    }\n",
              "</style>\n",
              "<table border=\"1\" class=\"dataframe\">\n",
              "  <thead>\n",
              "    <tr style=\"text-align: right;\">\n",
              "      <th></th>\n",
              "      <th>content</th>\n",
              "      <th>true_label_id</th>\n",
              "      <th>prediction label</th>\n",
              "    </tr>\n",
              "  </thead>\n",
              "  <tbody>\n",
              "    <tr>\n",
              "      <th>0</th>\n",
              "      <td>حسن جوهرچی بازیگر سینما و تلویزیون ایران در گف...</td>\n",
              "      <td>5</td>\n",
              "      <td>فرهنگی هنری</td>\n",
              "    </tr>\n",
              "    <tr>\n",
              "      <th>1</th>\n",
              "      <td>به گزارش گروه بین الملل باشگاه خبرنگاران جوان ...</td>\n",
              "      <td>2</td>\n",
              "      <td>فرهنگی هنری</td>\n",
              "    </tr>\n",
              "    <tr>\n",
              "      <th>2</th>\n",
              "      <td>به گزارش خبرنگار فوتبال و فوتسال گروه ورزشی با...</td>\n",
              "      <td>6</td>\n",
              "      <td>فرهنگی هنری</td>\n",
              "    </tr>\n",
              "    <tr>\n",
              "      <th>3</th>\n",
              "      <td>به‌ گزارش گروه اقتصادی باشگاه خبرنگاران به نقل...</td>\n",
              "      <td>1</td>\n",
              "      <td>فرهنگی هنری</td>\n",
              "    </tr>\n",
              "    <tr>\n",
              "      <th>4</th>\n",
              "      <td>به گزارش خبرنگار حوزه قرآن و عترت گروه فرهنگی ...</td>\n",
              "      <td>5</td>\n",
              "      <td>فرهنگی هنری</td>\n",
              "    </tr>\n",
              "    <tr>\n",
              "      <th>...</th>\n",
              "      <td>...</td>\n",
              "      <td>...</td>\n",
              "      <td>...</td>\n",
              "    </tr>\n",
              "    <tr>\n",
              "      <th>1639</th>\n",
              "      <td>طرح رجیستری که برای قانون‌مند شدن واردات موبای...</td>\n",
              "      <td>4</td>\n",
              "      <td>علمی فناوری</td>\n",
              "    </tr>\n",
              "    <tr>\n",
              "      <th>1640</th>\n",
              "      <td>به گزارش گروه بین‌الملل باشگاه خبرنگاران جوان ...</td>\n",
              "      <td>2</td>\n",
              "      <td>فرهنگی هنری</td>\n",
              "    </tr>\n",
              "    <tr>\n",
              "      <th>1641</th>\n",
              "      <td>به گزارش گروه ورزشی باشگاه خبرنگاران، مرحله یک...</td>\n",
              "      <td>6</td>\n",
              "      <td>فرهنگی هنری</td>\n",
              "    </tr>\n",
              "    <tr>\n",
              "      <th>1642</th>\n",
              "      <td>مجله شبانه باشگاه خبرنگاران؛ عطا کردی خطا کردم...</td>\n",
              "      <td>0</td>\n",
              "      <td>فرهنگی هنری</td>\n",
              "    </tr>\n",
              "    <tr>\n",
              "      <th>1643</th>\n",
              "      <td>به گزارش حوزه مجلس گروه سیاسی باشگاه خبرنگاران...</td>\n",
              "      <td>3</td>\n",
              "      <td>فرهنگی هنری</td>\n",
              "    </tr>\n",
              "  </tbody>\n",
              "</table>\n",
              "<p>1644 rows × 3 columns</p>\n",
              "</div>"
            ],
            "text/plain": [
              "                                                content  ...  prediction label\n",
              "0     حسن جوهرچی بازیگر سینما و تلویزیون ایران در گف...  ...       فرهنگی هنری\n",
              "1     به گزارش گروه بین الملل باشگاه خبرنگاران جوان ...  ...       فرهنگی هنری\n",
              "2     به گزارش خبرنگار فوتبال و فوتسال گروه ورزشی با...  ...       فرهنگی هنری\n",
              "3     به‌ گزارش گروه اقتصادی باشگاه خبرنگاران به نقل...  ...       فرهنگی هنری\n",
              "4     به گزارش خبرنگار حوزه قرآن و عترت گروه فرهنگی ...  ...       فرهنگی هنری\n",
              "...                                                 ...  ...               ...\n",
              "1639  طرح رجیستری که برای قانون‌مند شدن واردات موبای...  ...       علمی فناوری\n",
              "1640  به گزارش گروه بین‌الملل باشگاه خبرنگاران جوان ...  ...       فرهنگی هنری\n",
              "1641  به گزارش گروه ورزشی باشگاه خبرنگاران، مرحله یک...  ...       فرهنگی هنری\n",
              "1642  مجله شبانه باشگاه خبرنگاران؛ عطا کردی خطا کردم...  ...       فرهنگی هنری\n",
              "1643  به گزارش حوزه مجلس گروه سیاسی باشگاه خبرنگاران...  ...       فرهنگی هنری\n",
              "\n",
              "[1644 rows x 3 columns]"
            ]
          },
          "metadata": {
            "tags": []
          },
          "execution_count": 6
        }
      ]
    },
    {
      "cell_type": "code",
      "metadata": {
        "id": "i9jllThsCyab",
        "colab": {
          "base_uri": "https://localhost:8080/",
          "height": 419
        },
        "outputId": "3f012c6c-9a60-437a-80b9-b8fdecafb675"
      },
      "source": [
        "testdata=pd.read_csv('/content/drive/MyDrive/persian_news/persian_news/test.csv', sep='\\t', encoding=\"utf-8\")\n",
        "testdata"
      ],
      "execution_count": null,
      "outputs": [
        {
          "output_type": "execute_result",
          "data": {
            "text/html": [
              "<div>\n",
              "<style scoped>\n",
              "    .dataframe tbody tr th:only-of-type {\n",
              "        vertical-align: middle;\n",
              "    }\n",
              "\n",
              "    .dataframe tbody tr th {\n",
              "        vertical-align: top;\n",
              "    }\n",
              "\n",
              "    .dataframe thead th {\n",
              "        text-align: right;\n",
              "    }\n",
              "</style>\n",
              "<table border=\"1\" class=\"dataframe\">\n",
              "  <thead>\n",
              "    <tr style=\"text-align: right;\">\n",
              "      <th></th>\n",
              "      <th>Unnamed: 0</th>\n",
              "      <th>content</th>\n",
              "      <th>label</th>\n",
              "      <th>label_id</th>\n",
              "    </tr>\n",
              "  </thead>\n",
              "  <tbody>\n",
              "    <tr>\n",
              "      <th>0</th>\n",
              "      <td>0</td>\n",
              "      <td>حسن جوهرچی بازیگر سینما و تلویزیون ایران در گف...</td>\n",
              "      <td>فرهنگی هنری</td>\n",
              "      <td>5</td>\n",
              "    </tr>\n",
              "    <tr>\n",
              "      <th>1</th>\n",
              "      <td>1</td>\n",
              "      <td>به گزارش گروه بین الملل باشگاه خبرنگاران جوان ...</td>\n",
              "      <td>بین الملل</td>\n",
              "      <td>2</td>\n",
              "    </tr>\n",
              "    <tr>\n",
              "      <th>2</th>\n",
              "      <td>2</td>\n",
              "      <td>به گزارش خبرنگار فوتبال و فوتسال گروه ورزشی با...</td>\n",
              "      <td>ورزشی</td>\n",
              "      <td>6</td>\n",
              "    </tr>\n",
              "    <tr>\n",
              "      <th>3</th>\n",
              "      <td>3</td>\n",
              "      <td>به‌ گزارش گروه اقتصادی باشگاه خبرنگاران به نقل...</td>\n",
              "      <td>اقتصادی</td>\n",
              "      <td>1</td>\n",
              "    </tr>\n",
              "    <tr>\n",
              "      <th>4</th>\n",
              "      <td>4</td>\n",
              "      <td>به گزارش خبرنگار حوزه قرآن و عترت گروه فرهنگی ...</td>\n",
              "      <td>فرهنگی هنری</td>\n",
              "      <td>5</td>\n",
              "    </tr>\n",
              "    <tr>\n",
              "      <th>...</th>\n",
              "      <td>...</td>\n",
              "      <td>...</td>\n",
              "      <td>...</td>\n",
              "      <td>...</td>\n",
              "    </tr>\n",
              "    <tr>\n",
              "      <th>1639</th>\n",
              "      <td>1639</td>\n",
              "      <td>طرح رجیستری که برای قانون‌مند شدن واردات موبای...</td>\n",
              "      <td>علمی فناوری</td>\n",
              "      <td>4</td>\n",
              "    </tr>\n",
              "    <tr>\n",
              "      <th>1640</th>\n",
              "      <td>1640</td>\n",
              "      <td>به گزارش گروه بین‌الملل باشگاه خبرنگاران جوان ...</td>\n",
              "      <td>بین الملل</td>\n",
              "      <td>2</td>\n",
              "    </tr>\n",
              "    <tr>\n",
              "      <th>1641</th>\n",
              "      <td>1641</td>\n",
              "      <td>به گزارش گروه ورزشی باشگاه خبرنگاران، مرحله یک...</td>\n",
              "      <td>ورزشی</td>\n",
              "      <td>6</td>\n",
              "    </tr>\n",
              "    <tr>\n",
              "      <th>1642</th>\n",
              "      <td>1642</td>\n",
              "      <td>مجله شبانه باشگاه خبرنگاران؛ عطا کردی خطا کردم...</td>\n",
              "      <td>اجتماعی</td>\n",
              "      <td>0</td>\n",
              "    </tr>\n",
              "    <tr>\n",
              "      <th>1643</th>\n",
              "      <td>1643</td>\n",
              "      <td>به گزارش حوزه مجلس گروه سیاسی باشگاه خبرنگاران...</td>\n",
              "      <td>سیاسی</td>\n",
              "      <td>3</td>\n",
              "    </tr>\n",
              "  </tbody>\n",
              "</table>\n",
              "<p>1644 rows × 4 columns</p>\n",
              "</div>"
            ],
            "text/plain": [
              "      Unnamed: 0  ... label_id\n",
              "0              0  ...        5\n",
              "1              1  ...        2\n",
              "2              2  ...        6\n",
              "3              3  ...        1\n",
              "4              4  ...        5\n",
              "...          ...  ...      ...\n",
              "1639        1639  ...        4\n",
              "1640        1640  ...        2\n",
              "1641        1641  ...        6\n",
              "1642        1642  ...        0\n",
              "1643        1643  ...        3\n",
              "\n",
              "[1644 rows x 4 columns]"
            ]
          },
          "metadata": {
            "tags": []
          },
          "execution_count": 8
        }
      ]
    },
    {
      "cell_type": "code",
      "metadata": {
        "id": "5uvR7iplC2jv",
        "colab": {
          "base_uri": "https://localhost:8080/"
        },
        "outputId": "bbf3d715-6717-4e65-da18-de5500602ed3"
      },
      "source": [
        "sentence_train = data['content']\n",
        "label_train = data['true_label_id']\n",
        "\n",
        "print('Number of training sentence: ', sentence_train.shape)\n",
        "print('Number of training label: ', label_train.shape)"
      ],
      "execution_count": null,
      "outputs": [
        {
          "output_type": "stream",
          "text": [
            "Number of training sentence:  (1644,)\n",
            "Number of training label:  (1644,)\n"
          ],
          "name": "stdout"
        }
      ]
    },
    {
      "cell_type": "code",
      "metadata": {
        "id": "S730-rFwC7dI",
        "colab": {
          "base_uri": "https://localhost:8080/"
        },
        "outputId": "10f4f1af-c9d3-4fb5-db31-12f1b156011d"
      },
      "source": [
        "data.shape, testdata.shape"
      ],
      "execution_count": null,
      "outputs": [
        {
          "output_type": "execute_result",
          "data": {
            "text/plain": [
              "((1644, 3), (1644, 4))"
            ]
          },
          "metadata": {
            "tags": []
          },
          "execution_count": 10
        }
      ]
    },
    {
      "cell_type": "code",
      "metadata": {
        "id": "NjWUDQe9DCs8",
        "colab": {
          "base_uri": "https://localhost:8080/"
        },
        "outputId": "2a14ff01-2b3e-47cb-bc41-980efb403544"
      },
      "source": [
        "data.true_label_id.value_counts()"
      ],
      "execution_count": null,
      "outputs": [
        {
          "output_type": "execute_result",
          "data": {
            "text/plain": [
              "5    256\n",
              "4    244\n",
              "3    227\n",
              "0    217\n",
              "7    209\n",
              "2    197\n",
              "1    156\n",
              "6    138\n",
              "Name: true_label_id, dtype: int64"
            ]
          },
          "metadata": {
            "tags": []
          },
          "execution_count": 12
        }
      ]
    },
    {
      "cell_type": "code",
      "metadata": {
        "id": "I-H_3OqvDK7M",
        "colab": {
          "base_uri": "https://localhost:8080/"
        },
        "outputId": "5af798c5-c087-40be-d014-cf3dc80e51d4"
      },
      "source": [
        "data.isnull().sum()"
      ],
      "execution_count": null,
      "outputs": [
        {
          "output_type": "execute_result",
          "data": {
            "text/plain": [
              "content             0\n",
              "true_label_id       0\n",
              "prediction label    0\n",
              "dtype: int64"
            ]
          },
          "metadata": {
            "tags": []
          },
          "execution_count": 13
        }
      ]
    },
    {
      "cell_type": "code",
      "metadata": {
        "id": "KX5uMmjJDPfi",
        "colab": {
          "base_uri": "https://localhost:8080/"
        },
        "outputId": "db8a6a43-f95b-4cff-c669-d6840be65d18"
      },
      "source": [
        "testdata.isnull().sum()"
      ],
      "execution_count": null,
      "outputs": [
        {
          "output_type": "execute_result",
          "data": {
            "text/plain": [
              "Unnamed: 0    0\n",
              "content       0\n",
              "label         0\n",
              "label_id      0\n",
              "dtype: int64"
            ]
          },
          "metadata": {
            "tags": []
          },
          "execution_count": 14
        }
      ]
    },
    {
      "cell_type": "code",
      "metadata": {
        "id": "R6QF-TqRDPnq",
        "colab": {
          "base_uri": "https://localhost:8080/"
        },
        "outputId": "b0c0862a-d47a-43f7-8d33-3c1f78677d53"
      },
      "source": [
        "from collections import Counter\n",
        "cnt = Counter(label_train)\n",
        "cnt = dict(cnt)\n",
        "print(cnt)"
      ],
      "execution_count": null,
      "outputs": [
        {
          "output_type": "stream",
          "text": [
            "{5: 256, 2: 197, 6: 138, 1: 156, 7: 209, 3: 227, 4: 244, 0: 217}\n"
          ],
          "name": "stdout"
        }
      ]
    },
    {
      "cell_type": "code",
      "metadata": {
        "id": "yai_VY3iDPyf",
        "colab": {
          "base_uri": "https://localhost:8080/"
        },
        "outputId": "3df3beda-42c4-4fa4-e7cb-5a49c6cd2a13"
      },
      "source": [
        "sentence_train = np.asarray(sentence_train)\n",
        "label_train = np.asarray(label_train)\n",
        "\n",
        "categorical_label_train = to_categorical(label_train, 8)\n",
        "categorical_label_train"
      ],
      "execution_count": null,
      "outputs": [
        {
          "output_type": "execute_result",
          "data": {
            "text/plain": [
              "array([[0., 0., 0., ..., 1., 0., 0.],\n",
              "       [0., 0., 1., ..., 0., 0., 0.],\n",
              "       [0., 0., 0., ..., 0., 1., 0.],\n",
              "       ...,\n",
              "       [0., 0., 0., ..., 0., 1., 0.],\n",
              "       [1., 0., 0., ..., 0., 0., 0.],\n",
              "       [0., 0., 0., ..., 0., 0., 0.]], dtype=float32)"
            ]
          },
          "metadata": {
            "tags": []
          },
          "execution_count": 17
        }
      ]
    },
    {
      "cell_type": "code",
      "metadata": {
        "id": "UuntX8rdDiLb"
      },
      "source": [
        "import re\n",
        "normalizer = Normalizer()\n",
        "lemmatizer = Lemmatizer()\n",
        "stemmer = Stemmer()\n",
        "\n",
        "def clean_data(doc):\n",
        "    doc = normalizer.normalize(doc) \n",
        "    tokenized = word_tokenize(doc)  \n",
        "    tokens = []\n",
        "    for token in tokenized:      \n",
        "      token = re.sub(\"[،:.,;()/+]\", \" \", token) \n",
        "      token = re.sub(r\"\\!+\",\"!\", token)\n",
        "      token = re.sub(r\"\\؟+\",\"؟\", token)\n",
        "      token = re.sub(r\"\\u200c\", \" \", token)\n",
        "      token = token.lower()\n",
        "      token = re.sub('<[^>]*>', '', token)\n",
        "      token = re.sub('\\S*@\\S*\\s?', '', token)\n",
        "      token = re.sub('https?://[A-Za-z0-9]','',token)\n",
        "      token = re.sub('[^a-zA-Z]',' ',token)\n",
        "      token = re.sub(r\"\\'s\", \"\", token)\n",
        "      token = re.sub(r\"\\'ve\", \"\", token)\n",
        "      token = re.sub(r\"n\\'t\", \"\", token)\n",
        "      token = re.sub(r\"\\'re\", \"\", token)\n",
        "      token = re.sub(r\"\\'d\", \"\", token)\n",
        "      token = re.sub(r\"\\'11\", \"\", token)\n",
        "      token = re.sub(r\"'\", \"\", token)\n",
        "      token = re.sub(r\"\\s{2,}\", \"\", token)\n",
        "      tokens.append(token)\n",
        "\n",
        "    tokens = [w for w in tokens if not len(w) <= 1]  \n",
        "    tokens = [w for w in tokens if not w.isdigit()] \n",
        "    tokens = [lemmatizer.lemmatize(w) for w in tokens] \n",
        "    tokens = [stemmer.stem(w) for w in tokens] \n",
        "    tokens = ' '.join(tokens)\n",
        "    return tokens"
      ],
      "execution_count": null,
      "outputs": []
    },
    {
      "cell_type": "code",
      "metadata": {
        "id": "4NPQNvXQDiae"
      },
      "source": [
        "train_docs = np.empty_like(sentence_train)\n",
        "for index, document in enumerate(sentence_train):\n",
        "  train_docs[index] = clean_data(document)"
      ],
      "execution_count": null,
      "outputs": []
    },
    {
      "cell_type": "code",
      "metadata": {
        "id": "EesRaLA_Di76",
        "colab": {
          "base_uri": "https://localhost:8080/"
        },
        "outputId": "5754a3f9-0ab5-41bb-b46a-3f7ae9dc0136"
      },
      "source": [
        "num_words = 1644\n",
        "# Create the tokenizer\n",
        "tokenizer = Tokenizer(num_words=num_words)\n",
        "tokenizer.fit_on_texts(train_docs)\n",
        "encoded_docs = tokenizer.texts_to_sequences(train_docs)\n",
        "print(encoded_docs)"
      ],
      "execution_count": null,
      "outputs": [
        {
          "output_type": "stream",
          "text": [
            "[[], [], [], [], [], [], [], [], [], [288, 289, 290, 291, 292, 13, 13, 293, 149, 150, 13, 294, 149, 150, 13, 13, 151, 59, 295, 151, 59, 90, 296, 152, 297, 7, 153, 153], [], [], [], [], [], [154, 155, 156, 48, 91, 156, 91, 298, 154, 155, 91], [], [], [], [], [], [], [], [], [], [299, 60, 157], [], [], [92, 92, 92], [], [9, 9, 61, 300, 49, 9, 9, 61, 9, 61], [], [], [], [], [158], [], [], [], [], [], [], [], [], [], [], [301], [302, 303, 304, 50], [], [], [], [305, 306], [], [], [], [], [], [], [], [], [], [], [159], [], [], [], [31, 9, 9, 23, 14, 14, 9, 9, 23, 31, 31, 31, 160, 31], [], [], [], [], [], [], [], [], [], [], [], [], [], [], [93], [], [], [], [], [], [], [4], [], [], [38, 51, 62, 307, 308, 309, 310, 311, 312], [313], [], [], [], [], [], [], [], [], [], [], [], [63, 63, 63], [314], [], [], [], [], [], [], [], [32], [], [161, 315, 316], [], [], [], [], [], [], [], [], [], [], [], [], [], [], [], [], [], [], [], [317, 318], [], [], [], [], [], [], [], [], [], [], [], [], [], [319, 320, 321, 322], [64, 94, 64, 64, 64], [], [], [], [], [323, 65, 7, 7, 324, 4, 7], [325, 326, 162, 163, 162, 163], [], [], [164, 165, 95, 327, 164, 165, 95], [5, 5, 5, 5, 328, 96, 96, 1, 329, 5, 96, 5, 1, 1, 1], [10], [1], [], [], [], [], [], [], [330], [], [], [], [], [], [], [], [], [], [], [], [], [166, 166], [], [], [], [97, 97, 97], [], [], [331, 332, 333], [], [], [], [], [], [], [], [334, 335, 66, 66, 66, 66], [], [], [336, 337], [338], [167, 167], [339], [], [], [168], [], [], [], [], [], [], [], [], [], [], [], [], [169, 169], [], [], [], [98, 340, 341, 98, 98], [], [10], [], [], [], [], [], [], [], [], [], [342, 343], [1, 26, 344, 1, 38, 38, 345, 26, 26, 346, 347, 348, 349, 350, 15, 351, 99, 352, 353, 354, 355, 170, 49, 356, 357, 358, 359, 360, 1, 361, 26, 362, 1, 171, 1, 1, 363, 1, 364, 365, 366, 367, 368, 172, 1, 369, 1, 172, 67, 4, 1, 171], [100, 100, 100], [101, 101, 101], [102], [1], [], [], [], [], [6], [], [], [], [], [], [], [370], [], [68, 371, 372, 69, 103, 104, 15, 105, 173, 69, 174, 373, 374, 104, 15, 105, 8, 104, 15, 105, 173, 69, 103, 69, 103, 16, 16], [1, 1, 1], [], [375, 376, 67, 377, 378, 2, 13, 379, 380, 381, 382, 106, 107, 107, 107], [], [33, 106, 33, 106, 383, 8, 34, 34, 34, 34], [], [], [], [], [], [], [], [], [], [], [], [], [27, 27, 27, 27, 27, 27], [384, 385], [], [], [386, 175, 387, 388, 389], [], [], [], [], [], [], [], [], [], [390, 391, 392, 70, 70, 70], [], [393], [394, 17, 176, 52, 53, 17, 19, 24, 17, 19, 17, 395, 52, 17, 396, 28, 397, 398], [399], [], [400, 401, 402], [403, 404], [], [], [], [], [23, 405, 108, 177, 14, 99, 178, 23, 177, 109, 39, 2], [], [], [406, 407, 408, 409], [], [], [], [], [], [179], [], [], [], [], [410], [], [], [], [], [], [], [], [], [411, 412, 413, 414, 180, 180, 181, 182, 181, 182, 415, 183, 416], [], [184, 185, 185], [], [], [], [], [], [], [], [20, 20, 110, 111, 20, 20, 186, 110, 111, 20, 20, 21, 20, 23, 417, 418, 20, 7, 4, 20, 110, 419, 20, 186], [], [420, 421, 422, 423, 424], [], [], [], [], [], [425], [], [], [], [], [], [], [], [], [426, 427], [], [428, 429, 430, 431, 432, 433, 434, 435, 436], [12, 8, 12, 8, 12, 8, 12, 8, 12, 8, 437, 187, 188, 438, 12, 8, 12, 8, 12, 8, 12, 8, 12, 8], [], [], [], [], [], [], [], [], [439, 52, 440, 189, 441, 190], [], [], [442], [], [], [], [], [], [], [443], [], [], [112, 15, 444, 445, 446, 447], [], [], [], [], [6, 18, 6, 18, 6, 6, 18], [], [], [], [], [], [448], [], [], [191, 191], [], [], [], [], [], [], [], [], [], [], [449, 450, 451, 113, 452], [453], [], [], [54, 192, 54, 71, 71, 54, 71, 4, 454, 71, 54, 193, 455, 54], [], [], [], [], [], [], [], [], [72, 456, 457, 458, 459, 35, 72, 35, 72, 460, 194, 16, 195, 195, 461, 114, 72, 462, 73, 463, 464, 465, 466, 467, 468, 469, 470, 196, 115, 16, 5, 13, 5, 13, 11], [74, 40, 74, 40, 74, 40, 52, 52, 5, 40, 74, 40, 35, 40], [], [7, 4], [], [], [], [], [16], [], [], [], [], [], [116, 197, 116, 116, 197], [], [], [], [], [], [], [], [], [], [], [], [], [], [], [], [], [], [], [], [], [], [], [], [], [], [], [], [70], [], [198, 198, 471, 472, 473, 474], [], [], [], [], [], [12, 8, 12, 8, 8, 12, 8, 12, 8, 475, 476, 12, 8, 12, 8, 12, 8, 73, 14, 12, 8, 477, 199], [], [], [], [], [], [], [478], [], [], [], [479, 480, 75, 481, 49, 76, 49, 76, 68, 49, 76, 76], [], [], [], [], [], [1, 1, 1, 1, 482, 1, 26, 1, 1, 26, 1, 1, 1, 26], [], [18, 18, 94, 33, 200, 18, 18, 115, 18, 483, 201, 34, 484, 18, 21, 34, 34, 18, 485, 6, 486, 487, 18, 18, 488, 174], [], [], [], [], [10], [], [], [], [], [489, 490], [], [], [], [], [117, 113, 117, 13, 117, 113, 13, 13], [], [], [], [], [], [], [], [], [], [], [], [], [], [], [], [], [10, 1], [], [], [], [], [], [], [], [491], [], [], [492, 202, 493, 202], [], [], [29, 494], [], [], [], [], [], [], [], [], [], [], [], [], [], [], [495, 496], [], [], [], [], [], [], [201, 497, 498, 9, 9], [], [], [], [], [], [], [], [], [], [], [], [], [], [499, 500], [], [], [], [], [], [501], [], [], [], [], [], [], [], [502, 503], [], [], [], [], [], [], [], [], [504, 505, 506, 507, 508, 509, 510, 511], [512, 118, 55, 119, 41, 55, 119, 36, 41, 42, 118, 21, 118], [38, 513], [], [], [], [], [], [], [], [], [], [], [], [], [120, 514, 120, 515, 516, 161, 517, 518, 519, 520, 521, 120, 522, 523, 43, 524, 203], [], [], [], [], [], [], [525], [], [], [], [], [526, 121], [], [], [], [527, 204], [], [], [], [], [], [], [179], [], [], [], [], [], [56, 528], [], [], [], [], [], [], [], [], [], [], [], [], [], [6, 6, 6, 6, 529, 6, 6, 6, 6, 6, 6, 6], [11, 11, 11, 530, 11, 11, 531, 532, 51, 533, 90, 39, 90, 39, 11], [], [], [205, 534, 535, 205, 206, 207, 536, 537], [], [], [], [], [], [], [], [44, 44, 44, 44, 44, 44], [], [538, 199, 539], [], [], [], [], [], [], [56, 540, 15, 56, 541, 542, 15, 543, 122, 50], [], [], [], [], [], [], [], [], [], [28, 28, 28, 544, 123, 21, 28, 28, 4, 5], [114, 2, 2, 208, 114, 2, 208, 24, 42, 209, 35, 545], [], [], [546, 115], [], [], [], [], [], [], [], [], [], [547, 548, 549, 550, 210, 211, 210, 211, 551, 552], [], [553, 554, 555, 556, 557, 558, 212, 559], [], [], [], [], [], [], [560, 561, 213, 562, 563, 564, 214, 213, 11], [], [], [], [], [], [565, 566], [], [], [], [10, 10, 10, 10, 10, 10, 10, 10], [], [567, 121, 568, 121, 569], [570], [], [], [], [], [], [23, 209, 571, 572, 573, 574, 575, 187, 215, 576, 216, 577, 183, 578], [], [], [], [579, 580, 581], [], [], [], [], [], [], [217, 218, 217, 218, 582, 583, 584], [], [], [], [], [], [], [], [], [219, 585], [], [], [], [], [], [], [], [22, 22, 22, 22, 22, 22, 22, 22, 22, 22], [], [10, 10, 10, 10], [67, 67, 220], [], [43, 124], [], [221, 19, 586, 221, 19, 196], [], [], [], [], [], [], [], [], [], [], [], [], [587, 588, 222], [], [], [589], [], [], [], [], [], [], [], [], [], [], [], [], [1, 1], [], [], [], [125, 125], [], [], [], [111, 6, 6, 590], [], [], [], [], [], [], [591], [], [592], [], [], [], [], [168], [184, 593], [], [594, 595], [], [], [], [], [], [596, 597, 598, 599, 600], [], [], [], [], [], [13, 601, 5, 5, 5, 2, 16, 5, 5, 2, 5, 2, 5, 2], [], [602, 45, 45, 603, 8, 45, 45, 45, 178, 39, 604, 605, 45], [], [], [], [606, 112, 607, 608, 609, 610, 611, 612, 613, 614], [], [], [615, 616, 223, 223, 617, 38], [], [], [618, 215], [], [], [], [], [], [], [], [], [], [], [], [], [], [], [], [], [], [], [619, 620, 621, 622], [], [], [], [], [], [], [], [126, 623], [10, 624, 625, 33, 224, 2, 626, 627, 628, 224, 2, 629, 10, 10], [], [], [], [630], [], [], [], [], [], [], [], [], [], [], [], [], [], [], [], [], [], [], [], [], [], [], [], [], [], [], [], [631], [], [], [], [], [], [], [], [], [], [], [632, 633, 634, 635, 636, 212, 637, 51, 638], [10, 639, 640, 641], [642, 643], [], [644, 225, 645, 646, 647, 648, 649], [650, 651, 652, 653, 15, 654, 655], [], [656, 657, 658], [], [], [], [], [], [], [], [], [], [], [29, 127, 206, 207, 659, 127, 226], [660, 661], [], [], [], [], [227, 29, 29, 662, 663, 664, 665], [], [], [666, 102, 667], [], [668, 669, 670], [], [], [], [], [], [], [], [], [228, 128, 129, 65, 128, 671, 55, 672, 55, 119, 73, 128, 673, 16, 228, 129, 65, 674, 55, 129, 65, 73, 41, 42, 36, 7], [], [94, 675], [75, 75], [676], [], [229, 229], [], [], [], [], [], [], [], [], [], [], [], [], [], [225, 677, 3, 678, 190, 679, 189, 680, 681, 682, 683, 3, 3, 77, 77, 77, 3, 3, 11, 3, 684, 3, 3, 3, 3, 3, 3, 685, 686, 3, 62, 130, 3, 62, 130, 687, 688, 62, 130, 3, 3, 3, 3, 3, 689, 3, 690, 691, 77, 3, 3, 3, 692, 3, 3, 3, 3, 3, 693, 11], [], [694, 158], [], [], [], [695], [], [33, 696, 33, 200, 33, 697], [], [], [204, 698, 170, 699, 700, 701, 702, 703, 704, 705, 706, 51, 131, 707], [], [], [], [], [708], [], [], [], [], [], [], [], [37, 37, 37, 37, 37, 709, 37, 37], [], [57, 57, 57, 57, 57], [], [], [], [], [], [], [710], [], [], [], [], [711, 230], [], [231], [], [], [], [], [176, 712], [], [713, 78, 132, 78, 714, 715, 78, 132, 232, 233, 232, 233, 29, 78, 132, 716], [], [133, 234, 717, 718, 133, 719, 133, 234, 720], [], [], [], [], [231], [], [721, 134], [], [], [], [], [], [], [7, 4, 7, 4, 7, 4, 7, 4, 235, 7, 4, 7, 4, 7, 4, 7, 4, 7, 4, 7, 4, 7, 4], [], [722], [], [], [], [16, 16, 723, 724], [], [], [], [], [], [], [], [], [], [], [], [], [], [], [], [], [], [], [], [], [30, 30, 725, 726, 30], [], [], [727, 193, 236, 122], [], [], [134, 134], [], [], [], [7, 4, 728, 729, 7, 4, 36, 41, 42, 41, 220], [42, 237, 46, 58, 238, 42, 237, 238, 730, 731, 732, 46, 58, 46, 58, 152, 46, 46, 58], [43, 239], [], [], [], [], [], [], [], [], [], [], [], [], [733, 734, 735, 736], [], [135, 135, 737, 135, 122, 15, 738, 739], [], [], [], [], [], [], [], [], [], [], [], [], [740], [], [], [], [], [13, 240, 13, 240, 741, 742], [], [], [], [79, 79, 79, 50], [], [], [], [], [], [], [], [], [], [], [], [], [], [32, 136, 2, 137, 32, 136, 2, 16, 32, 136, 2, 137, 2, 2, 137], [], [], [], [], [], [], [241, 241], [], [], [], [], [], [], [], [], [], [], [], [], [], [], [], [], [], [], [], [743, 744, 745, 746, 41, 242, 747], [], [43, 748], [], [], [], [47, 47, 749, 750, 751, 47, 2, 47, 47, 243, 243, 47], [752, 753, 754, 755, 756, 757, 758, 759, 43, 239], [], [], [], [], [], [], [760, 29], [], [], [], [138, 138, 761, 6, 762], [], [], [], [], [], [], [], [], [763, 764, 765, 766], [], [], [], [], [767, 768], [], [], [], [], [], [], [], [], [], [769], [], [], [], [], [], [], [], [], [], [], [11], [], [], [], [], [], [244, 244], [], [], [139, 139, 139, 770, 50], [], [771, 772], [], [], [], [773, 774], [], [], [], [], [], [775, 776], [], [159], [777, 235, 108, 778], [], [30, 30, 779, 1, 30, 30, 30, 131, 53, 780], [], [], [], [], [], [140, 140, 140], [11, 11, 781, 782, 53, 11, 783, 53, 784, 53, 785, 786, 11, 31], [], [], [], [], [], [], [], [], [], [], [], [], [], [], [], [787, 788, 789, 790, 791, 792, 793], [], [], [794, 795, 796], [], [], [], [25, 797, 245, 246, 798, 799, 245, 246, 25, 25, 25, 25, 25, 25, 25, 25], [800, 801, 802, 141, 803, 141, 804, 141], [], [], [], [], [], [], [], [247, 5, 247, 5, 805, 29, 7, 4, 219], [806, 807], [], [], [], [227, 808, 809, 810, 43, 124], [], [], [], [248, 2, 142, 249, 250, 80, 251, 252, 253, 254, 255, 256, 80, 248, 2, 142, 249, 250, 80, 251, 252, 253, 254, 255, 256, 80], [50], [], [], [257], [], [258, 811, 259, 259], [], [], [257, 812, 813, 814, 815], [28], [6], [], [], [], [816, 48, 222, 817, 818, 819], [], [], [], [13, 2, 820], [], [81, 2, 81, 2, 821, 81, 2, 194, 82, 822, 823, 824, 825, 81, 2], [], [], [], [], [], [], [], [], [], [], [], [], [], [826, 827, 828, 829, 830, 831, 832], [], [], [], [], [], [], [], [833, 2, 834, 835, 836, 837, 838, 839, 260, 51, 840, 261, 261], [], [], [], [], [], [841, 143, 842, 143, 143], [262, 262, 843], [], [], [], [], [], [], [], [], [], [], [], [], [], [], [], [], [], [], [], [], [], [], [], [], [], [], [844], [], [], [], [], [], [], [], [], [], [845, 144, 263, 846, 847, 848, 849, 144, 263, 144, 850, 851], [852, 93, 93, 853], [], [], [], [], [], [], [], [], [], [], [], [], [9, 61, 854], [], [79, 75], [], [83, 84, 83, 84, 83, 84, 83, 84], [], [855, 856], [], [], [], [], [], [], [], [], [], [], [], [], [], [], [], [], [], [], [], [], [], [11, 857], [], [], [], [264, 858, 859, 264, 11, 860, 861, 265, 265, 4, 862, 4, 11, 863, 2, 2, 2], [], [], [], [36, 864, 21, 865, 266, 866, 36, 36, 99, 867, 36], [], [], [], [], [868, 267, 869, 267, 870, 871, 872], [], [873, 874, 875], [], [], [], [], [], [], [], [], [268, 268, 85, 876, 877, 85, 85, 269, 270, 269, 270, 85], [], [], [], [], [878, 271, 271], [], [], [], [86, 125, 879, 86, 880, 881, 86, 86], [], [882], [], [], [], [], [], [], [], [], [], [21, 21, 188, 216, 883, 21, 21, 127, 5, 28, 6, 68, 884, 7, 4, 21], [], [885, 160], [], [], [], [], [], [145, 82, 46, 58, 29, 145, 82, 11, 145, 82, 886], [], [], [], [], [], [887, 888, 889, 272, 273, 27, 59, 273, 142, 272, 890], [], [], [274, 274, 891, 5, 16, 175], [], [], [892, 112, 192, 893, 894, 895, 896], [], [], [], [], [], [], [59, 897, 898, 5, 5, 899, 5, 5, 5], [], [900, 230, 901, 902], [], [], [], [], [], [], [], [], [], [], [], [903, 904, 15, 258, 5], [], [], [], [], [], [905, 906, 907], [275, 275, 908, 909, 236, 910], [], [], [], [], [], [], [], [], [], [56, 911], [], [], [], [], [], [], [], [], [912], [], [], [], [], [913, 914, 915, 916, 38, 917, 918], [60, 157], [], [], [], [], [], [], [], [], [], [276, 919, 203, 920, 921, 126, 277, 278, 87, 922, 95, 87, 126, 277, 278, 276, 87, 87], [], [], [], [], [], [], [], [], [], [214], [], [], [], [], [], [], [], [], [], [], [], [], [], [], [], [], [], [], [], [], [], [279, 1, 88, 146, 89, 4, 923, 124, 89, 924, 146, 89, 4, 88, 146, 89, 4, 88, 88, 925, 266, 279, 102], [926, 68], [], [927], [928, 929, 930], [], [], [], [], [], [], [931, 932, 933], [], [934, 242], [], [], [], [], [935], [], [], [], [], [], [14, 280, 23, 14, 23, 14, 9, 9, 14, 936, 937, 280, 14, 14, 938, 108, 939, 940, 9, 14, 9], [147, 147, 147], [], [], [], [], [], [], [941], [], [], [], [942], [], [], [], [], [], [9, 35, 9, 60, 35, 109, 39, 14, 281, 14, 9, 9, 60, 281], [], [17, 19, 24, 17, 19, 24, 19, 24, 17, 17, 19, 24, 148, 48, 282, 17, 19, 24, 943, 944, 945, 946, 17, 19, 24, 148, 48, 282, 148, 17, 19, 24], [31, 109, 39, 23], [283, 15, 284, 35, 283, 15, 284], [], [], [], [], [], [], [], [], [], [], [], [226, 32, 285, 32, 285, 32, 947], [], [], [], [], [], [], [], [948, 949, 950, 27, 951, 952, 953, 954, 48, 955, 2, 956, 957], [286, 123, 286, 123, 63], [], [], [1, 1, 1, 16, 1, 1, 6, 26, 6, 1, 1, 1], [], [], [], [], [], [287, 287], [], [], [11, 56, 958], [], [131, 260], [], [], [], [138, 959], [], [], [], []]\n"
          ],
          "name": "stdout"
        }
      ]
    },
    {
      "cell_type": "code",
      "metadata": {
        "id": "A1gLDV3gEEwQ",
        "colab": {
          "base_uri": "https://localhost:8080/"
        },
        "outputId": "00012f57-0722-4bc6-8989-10f2ad666cfc"
      },
      "source": [
        "max_length = max([len(s.split()) for s in train_docs])\n",
        "max_length"
      ],
      "execution_count": null,
      "outputs": [
        {
          "output_type": "execute_result",
          "data": {
            "text/plain": [
              "60"
            ]
          },
          "metadata": {
            "tags": []
          },
          "execution_count": 21
        }
      ]
    },
    {
      "cell_type": "code",
      "metadata": {
        "id": "yn1w6DfvEJdI",
        "colab": {
          "base_uri": "https://localhost:8080/"
        },
        "outputId": "9d2e4ead-d5ea-4411-ebf3-c1cdb4904513"
      },
      "source": [
        "x_train_padded = pad_sequences(encoded_docs, maxlen=max_length, padding='post')\n",
        "x_train_padded[1]"
      ],
      "execution_count": null,
      "outputs": [
        {
          "output_type": "execute_result",
          "data": {
            "text/plain": [
              "array([0, 0, 0, 0, 0, 0, 0, 0, 0, 0, 0, 0, 0, 0, 0, 0, 0, 0, 0, 0, 0, 0,\n",
              "       0, 0, 0, 0, 0, 0, 0, 0, 0, 0, 0, 0, 0, 0, 0, 0, 0, 0, 0, 0, 0, 0,\n",
              "       0, 0, 0, 0, 0, 0, 0, 0, 0, 0, 0, 0, 0, 0, 0, 0], dtype=int32)"
            ]
          },
          "metadata": {
            "tags": []
          },
          "execution_count": 22
        }
      ]
    },
    {
      "cell_type": "code",
      "metadata": {
        "id": "1pPJJ2DSEPk8"
      },
      "source": [
        "vocab_size = len(tokenizer.word_index)\n",
        "embed_size = 300"
      ],
      "execution_count": null,
      "outputs": []
    },
    {
      "cell_type": "code",
      "metadata": {
        "id": "Vd0A4OMPTE8v"
      },
      "source": [
        "model = Sequential()\n",
        "model.add(Embedding(vocab_size, embed_size, input_length=max_length))\n",
        "model.add(Bidirectional(LSTM(128, return_sequences=True))) \n",
        "model.add(Bidirectional(LSTM(64, return_sequences=True)))\n",
        "model.add(GlobalMaxPool1D()) \n",
        "model.add(Dense(1024))\n",
        "model.add(Dropout(0.25)) \n",
        "model.add(Dense(512))\n",
        "model.add(Dropout(0.25))\n",
        "model.add(Dense(256))\n",
        "model.add(Dropout(0.25))\n",
        "model.add(Dense(128))\n",
        "model.add(Dropout(0.25))\n",
        "model.add(Dense(64))\n",
        "model.add(Dropout(0.25))\n",
        "model.add(Dense(8, activation='softmax')) "
      ],
      "execution_count": null,
      "outputs": []
    },
    {
      "cell_type": "code",
      "metadata": {
        "id": "GbnpEybhVvK_",
        "colab": {
          "base_uri": "https://localhost:8080/"
        },
        "outputId": "579f4400-704f-46e7-f616-8f7f212948dd"
      },
      "source": [
        "model.compile(loss='categorical_crossentropy',\n",
        "              optimizer='adam',\n",
        "              metrics=[\"categorical_accuracy\"])\n",
        "model.summary()\n",
        "batch_size = 64\n",
        "epochs = 20"
      ],
      "execution_count": null,
      "outputs": [
        {
          "output_type": "stream",
          "text": [
            "Model: \"sequential_1\"\n",
            "_________________________________________________________________\n",
            "Layer (type)                 Output Shape              Param #   \n",
            "=================================================================\n",
            "embedding_1 (Embedding)      (None, 60, 300)           287700    \n",
            "_________________________________________________________________\n",
            "bidirectional_2 (Bidirection (None, 60, 256)           439296    \n",
            "_________________________________________________________________\n",
            "bidirectional_3 (Bidirection (None, 60, 128)           164352    \n",
            "_________________________________________________________________\n",
            "global_max_pooling1d_1 (Glob (None, 128)               0         \n",
            "_________________________________________________________________\n",
            "dense_6 (Dense)              (None, 1024)              132096    \n",
            "_________________________________________________________________\n",
            "dropout_5 (Dropout)          (None, 1024)              0         \n",
            "_________________________________________________________________\n",
            "dense_7 (Dense)              (None, 512)               524800    \n",
            "_________________________________________________________________\n",
            "dropout_6 (Dropout)          (None, 512)               0         \n",
            "_________________________________________________________________\n",
            "dense_8 (Dense)              (None, 256)               131328    \n",
            "_________________________________________________________________\n",
            "dropout_7 (Dropout)          (None, 256)               0         \n",
            "_________________________________________________________________\n",
            "dense_9 (Dense)              (None, 128)               32896     \n",
            "_________________________________________________________________\n",
            "dropout_8 (Dropout)          (None, 128)               0         \n",
            "_________________________________________________________________\n",
            "dense_10 (Dense)             (None, 64)                8256      \n",
            "_________________________________________________________________\n",
            "dropout_9 (Dropout)          (None, 64)                0         \n",
            "_________________________________________________________________\n",
            "dense_11 (Dense)             (None, 8)                 520       \n",
            "=================================================================\n",
            "Total params: 1,721,244\n",
            "Trainable params: 1,721,244\n",
            "Non-trainable params: 0\n",
            "_________________________________________________________________\n"
          ],
          "name": "stdout"
        }
      ]
    },
    {
      "cell_type": "code",
      "metadata": {
        "id": "2rXx7cITpjXD",
        "colab": {
          "base_uri": "https://localhost:8080/"
        },
        "outputId": "67504179-5f60-4fa1-93f5-5c1fc13a1a8e"
      },
      "source": [
        "history = model.fit(x_train_padded, categorical_label_train,\n",
        "                             batch_size=batch_size, epochs=epochs,\n",
        "                             shuffle=True)"
      ],
      "execution_count": null,
      "outputs": [
        {
          "output_type": "stream",
          "text": [
            "Epoch 1/20\n",
            "108/108 [==============================] - 38s 306ms/step - loss: 0.3655 - categorical_accuracy: 0.8677\n",
            "Epoch 2/20\n",
            "108/108 [==============================] - 33s 305ms/step - loss: 0.3519 - categorical_accuracy: 0.8702\n",
            "Epoch 3/20\n",
            "108/108 [==============================] - 33s 308ms/step - loss: 0.3389 - categorical_accuracy: 0.8750\n",
            "Epoch 4/20\n",
            "108/108 [==============================] - 33s 306ms/step - loss: 0.3465 - categorical_accuracy: 0.8767\n",
            "Epoch 5/20\n",
            "108/108 [==============================] - 33s 308ms/step - loss: 0.3271 - categorical_accuracy: 0.8754\n",
            "Epoch 6/20\n",
            "108/108 [==============================] - 33s 308ms/step - loss: 0.3300 - categorical_accuracy: 0.8743\n",
            "Epoch 7/20\n",
            "108/108 [==============================] - 33s 306ms/step - loss: 0.3313 - categorical_accuracy: 0.8753\n",
            "Epoch 8/20\n",
            "108/108 [==============================] - 33s 308ms/step - loss: 0.3540 - categorical_accuracy: 0.8733\n",
            "Epoch 9/20\n",
            "108/108 [==============================] - 33s 307ms/step - loss: 0.3527 - categorical_accuracy: 0.8722\n",
            "Epoch 10/20\n",
            "108/108 [==============================] - 33s 308ms/step - loss: 0.3533 - categorical_accuracy: 0.8714\n",
            "Epoch 11/20\n",
            "108/108 [==============================] - 33s 308ms/step - loss: 0.3251 - categorical_accuracy: 0.8779\n",
            "Epoch 12/20\n",
            "108/108 [==============================] - 33s 310ms/step - loss: 0.3181 - categorical_accuracy: 0.8794\n",
            "Epoch 13/20\n",
            "108/108 [==============================] - 33s 307ms/step - loss: 0.3119 - categorical_accuracy: 0.8823\n",
            "Epoch 14/20\n",
            "108/108 [==============================] - 33s 309ms/step - loss: 0.3153 - categorical_accuracy: 0.8767\n",
            "Epoch 15/20\n",
            "108/108 [==============================] - 33s 308ms/step - loss: 0.3181 - categorical_accuracy: 0.8802\n",
            "Epoch 16/20\n",
            "108/108 [==============================] - 33s 309ms/step - loss: 0.3587 - categorical_accuracy: 0.8751\n",
            "Epoch 17/20\n",
            "108/108 [==============================] - 33s 310ms/step - loss: 0.3524 - categorical_accuracy: 0.8720\n",
            "Epoch 18/20\n",
            "108/108 [==============================] - 33s 309ms/step - loss: 0.3231 - categorical_accuracy: 0.8796\n",
            "Epoch 19/20\n",
            "108/108 [==============================] - 33s 310ms/step - loss: 0.3158 - categorical_accuracy: 0.8778\n",
            "Epoch 20/20\n",
            "108/108 [==============================] - 33s 309ms/step - loss: 0.3029 - categorical_accuracy: 0.8852\n"
          ],
          "name": "stdout"
        }
      ]
    },
    {
      "cell_type": "code",
      "metadata": {
        "id": "uYx13vjrq4-1"
      },
      "source": [
        "testdata=pd.read_csv('/content/drive/MyDrive/persian_news/persian_news/test.csv', sep='\\t', encoding=\"utf-8\")\n",
        "\n",
        "x_test = testdata['content']\n",
        "y_test = testdata['label_id']"
      ],
      "execution_count": null,
      "outputs": []
    },
    {
      "cell_type": "code",
      "metadata": {
        "id": "DhvtjybEruU4",
        "colab": {
          "base_uri": "https://localhost:8080/"
        },
        "outputId": "112075a8-7801-411a-eadc-0efc860c5256"
      },
      "source": [
        "print('Number of testing sentence: ', x_test.shape)\n",
        "print('Number of testing label: ', y_test.shape)"
      ],
      "execution_count": null,
      "outputs": [
        {
          "output_type": "stream",
          "text": [
            "Number of testing sentence:  (852,)\n",
            "Number of testing label:  (852,)\n"
          ],
          "name": "stdout"
        }
      ]
    },
    {
      "cell_type": "code",
      "metadata": {
        "id": "h3A5wn8vrxo7",
        "colab": {
          "base_uri": "https://localhost:8080/"
        },
        "outputId": "1e0a7f5e-af7d-4500-9d27-7dee966a9d7c"
      },
      "source": [
        "x_test = np.asarray(x_test)\n",
        "y_test = np.asarray(y_test)\n",
        "\n",
        "# Applying preprocessing step to test data\n",
        "test_docs = np.empty_like(x_test)\n",
        "for index, document in enumerate(x_test):\n",
        "  test_docs[index] = clean_data(document)\n",
        "\n",
        "encoded_docs = tokenizer.texts_to_sequences(test_docs)\n",
        "x_test_padded = pad_sequences(encoded_docs, maxlen=max_length, padding='post')\n",
        "\n",
        "categorical_y_test = to_categorical(y_test, 7)\n",
        "\n",
        "loss, acc = model.evaluate(x_test_padded, categorical_y_test, verbose=1)\n",
        "print('Test Accuracy: %f' % (acc*100))"
      ],
      "execution_count": null,
      "outputs": [
        {
          "output_type": "stream",
          "text": [
            "27/27 [==============================] - 4s 99ms/step - loss: 1.3802 - categorical_accuracy: 0.7465\n",
            "Test Accuracy: 74.647886\n"
          ],
          "name": "stdout"
        }
      ]
    },
    {
      "cell_type": "markdown",
      "metadata": {
        "id": "jG0PylH1io9Z"
      },
      "source": [
        "LSTM"
      ]
    },
    {
      "cell_type": "code",
      "metadata": {
        "colab": {
          "base_uri": "https://localhost:8080/"
        },
        "id": "lQmO6GjQvhAT",
        "outputId": "82dcfe7a-743e-4219-daae-dccce5ccc739"
      },
      "source": [
        "vocab_size = len(tokenizer.word_index)\n",
        "\n",
        "model_blstm = Sequential()\n",
        "\n",
        "model_blstm.add(Embedding(vocab_size, 300, input_length=max_length))\n",
        "\n",
        "model_blstm.add(GlobalMaxPool1D())\n",
        "model_blstm.add(Dropout(0.25))\n",
        "model_blstm.add(Dense(300, activation=\"relu\"))\n",
        "model_blstm.add(Dropout(0.2))\n",
        "model_blstm.add(Dense(8, activation='softmax'))\n",
        "\n",
        "model_blstm.compile(loss='categorical_crossentropy',\n",
        "              optimizer='adam',\n",
        "              metrics=[\"categorical_accuracy\"])\n",
        "\n",
        "model_blstm.summary()\n",
        "batch_size_blstm = 64\n",
        "epochs_blstm = 12"
      ],
      "execution_count": null,
      "outputs": [
        {
          "output_type": "stream",
          "text": [
            "Model: \"sequential_2\"\n",
            "_________________________________________________________________\n",
            "Layer (type)                 Output Shape              Param #   \n",
            "=================================================================\n",
            "embedding_2 (Embedding)      (None, 60, 300)           287700    \n",
            "_________________________________________________________________\n",
            "global_max_pooling1d_2 (Glob (None, 300)               0         \n",
            "_________________________________________________________________\n",
            "dropout_10 (Dropout)         (None, 300)               0         \n",
            "_________________________________________________________________\n",
            "dense_12 (Dense)             (None, 300)               90300     \n",
            "_________________________________________________________________\n",
            "dropout_11 (Dropout)         (None, 300)               0         \n",
            "_________________________________________________________________\n",
            "dense_13 (Dense)             (None, 8)                 2408      \n",
            "=================================================================\n",
            "Total params: 380,408\n",
            "Trainable params: 380,408\n",
            "Non-trainable params: 0\n",
            "_________________________________________________________________\n"
          ],
          "name": "stdout"
        }
      ]
    },
    {
      "cell_type": "code",
      "metadata": {
        "colab": {
          "base_uri": "https://localhost:8080/"
        },
        "id": "hZ7w-zT4vyDX",
        "outputId": "b0887b58-c710-4fea-b02b-a33876e51c23"
      },
      "source": [
        "hist_blstm = model_blstm.fit(x_train_padded, categorical_label_train,\n",
        "                             batch_size=batch_size_blstm, epochs=epochs_blstm,\n",
        "                             shuffle=True)"
      ],
      "execution_count": null,
      "outputs": [
        {
          "output_type": "stream",
          "text": [
            "Epoch 1/12\n",
            "108/108 [==============================] - 9s 82ms/step - loss: 1.3095 - categorical_accuracy: 0.5068\n",
            "Epoch 2/12\n",
            "108/108 [==============================] - 9s 82ms/step - loss: 0.7621 - categorical_accuracy: 0.7542\n",
            "Epoch 3/12\n",
            "108/108 [==============================] - 9s 81ms/step - loss: 0.5468 - categorical_accuracy: 0.8247\n",
            "Epoch 4/12\n",
            "108/108 [==============================] - 9s 80ms/step - loss: 0.4501 - categorical_accuracy: 0.8447\n",
            "Epoch 5/12\n",
            "108/108 [==============================] - 9s 80ms/step - loss: 0.3942 - categorical_accuracy: 0.8573\n",
            "Epoch 6/12\n",
            "108/108 [==============================] - 9s 80ms/step - loss: 0.3649 - categorical_accuracy: 0.8677\n",
            "Epoch 7/12\n",
            "108/108 [==============================] - 9s 81ms/step - loss: 0.3434 - categorical_accuracy: 0.8753\n",
            "Epoch 8/12\n",
            "108/108 [==============================] - 9s 81ms/step - loss: 0.3258 - categorical_accuracy: 0.8821\n",
            "Epoch 9/12\n",
            "108/108 [==============================] - 9s 83ms/step - loss: 0.3199 - categorical_accuracy: 0.8805\n",
            "Epoch 10/12\n",
            "108/108 [==============================] - 9s 82ms/step - loss: 0.3135 - categorical_accuracy: 0.8837\n",
            "Epoch 11/12\n",
            "108/108 [==============================] - 9s 80ms/step - loss: 0.3053 - categorical_accuracy: 0.8838\n",
            "Epoch 12/12\n",
            "108/108 [==============================] - 9s 80ms/step - loss: 0.3055 - categorical_accuracy: 0.8856\n"
          ],
          "name": "stdout"
        }
      ]
    },
    {
      "cell_type": "code",
      "metadata": {
        "id": "I707kE4gEG8J",
        "colab": {
          "base_uri": "https://localhost:8080/"
        },
        "outputId": "c30aebdf-7160-42d4-82f6-fd275e810ab0"
      },
      "source": [
        "accr = model.evaluate(x_train_padded)\n",
        "print('Test set\\n  Loss: {:0.3f}\\n  Accuracy: {:0.3f}'.format(accr[0],accr[1]))"
      ],
      "execution_count": null,
      "outputs": [
        {
          "output_type": "stream",
          "text": [
            "216/216 [==============================] - 60s 278ms/step - loss: 0.0000e+00 - accuracy: 0.0000e+00\n",
            "Test set\n",
            "  Loss: 0.000\n",
            "  Accuracy: 0.000\n"
          ],
          "name": "stdout"
        }
      ]
    },
    {
      "cell_type": "code",
      "metadata": {
        "id": "KUoLhMeh3mxi",
        "colab": {
          "base_uri": "https://localhost:8080/"
        },
        "outputId": "250f2aab-6125-4b4f-df8a-cde474b63135"
      },
      "source": [
        "testdata=pd.read_csv('/content/drive/MyDrive/persian_news/persian_news/test.csv', sep='\\t', encoding=\"utf-8\")\n",
        "\n",
        "x_test = testdata['content']\n",
        "y_test = testdata['true_label_id']\n",
        "\n",
        "print('Number of testing sentence: ', x_test.shape)\n",
        "print('Number of testing label: ', y_test.shape)"
      ],
      "execution_count": null,
      "outputs": [
        {
          "output_type": "stream",
          "text": [
            "Number of testing sentence:  (852,)\n",
            "Number of testing label:  (852,)\n"
          ],
          "name": "stdout"
        }
      ]
    },
    {
      "cell_type": "code",
      "metadata": {
        "colab": {
          "base_uri": "https://localhost:8080/"
        },
        "id": "9pEd4ZBxF-bN",
        "outputId": "1e0a7f5e-af7d-4500-9d27-7dee966a9d7c"
      },
      "source": [
        "x_test = np.asarray(x_test)\n",
        "y_test = np.asarray(y_test)\n",
        "\n",
        "# Applying preprocessing step to test data\n",
        "test_docs = np.empty_like(x_test)\n",
        "for index, document in enumerate(x_test):\n",
        "  test_docs[index] = clean_data(document)\n",
        "\n",
        "encoded_docs = tokenizer.texts_to_sequences(test_docs)\n",
        "x_test_padded = pad_sequences(encoded_docs, maxlen=max_length, padding='post')\n",
        "\n",
        "categorical_y_test = to_categorical(y_test, 7)\n",
        "\n",
        "loss, acc = model.evaluate(x_test_padded, categorical_y_test, verbose=1)\n",
        "print('Test Accuracy: %f' % (acc*100))"
      ],
      "execution_count": null,
      "outputs": [
        {
          "output_type": "stream",
          "text": [
            "27/27 [==============================] - 4s 99ms/step - loss: 1.3802 - categorical_accuracy: 0.7465\n",
            "Test Accuracy: 74.647886\n"
          ],
          "name": "stdout"
        }
      ]
    },
    {
      "cell_type": "markdown",
      "metadata": {
        "id": "2-qkO71nyUPV"
      },
      "source": [
        "GRU"
      ]
    },
    {
      "cell_type": "code",
      "metadata": {
        "id": "nrtYLAxkvUkq"
      },
      "source": [
        "vocab_size = len(tokenizer.word_index)\n",
        "embed_size = 300"
      ],
      "execution_count": null,
      "outputs": []
    },
    {
      "cell_type": "code",
      "metadata": {
        "colab": {
          "base_uri": "https://localhost:8080/"
        },
        "id": "VgHNCAZbPNMu",
        "outputId": "46ee6e97-0d2d-4201-ef81-174e238872fa"
      },
      "source": [
        "from sklearn.metrics import mean_absolute_error\n",
        "from keras.models import Sequential\n",
        "from keras.layers import Dense, GRU, Dropout\n",
        "\n",
        "mode = Sequential()\n",
        "mode.add(Embedding(vocab_size, embed_size, input_length=max_length))\n",
        "mode.add(GRU(50, return_sequences=True))\n",
        "mode.add(Dropout(0.2))\n",
        "mode.add(GRU(100,return_sequences=False))\n",
        "mode.add(Dropout(0.2))\n",
        "mode.add(Dense(1, activation = \"linear\"))\n",
        "\n",
        "mode.compile(loss=\"mean_squared_error\",optimizer=\"rmsprop\",metrics=['accuracy'])\n",
        "\n",
        "history = mode.fit(x_train_padded,categorical_label_train,epochs= 12,batch_size=64,validation_split=0.2)"
      ],
      "execution_count": null,
      "outputs": [
        {
          "output_type": "stream",
          "text": [
            "Epoch 1/12\n",
            "87/87 [==============================] - 18s 163ms/step - loss: 0.1259 - accuracy: 0.8571 - val_loss: 0.1225 - val_accuracy: 0.8571\n",
            "Epoch 2/12\n",
            "87/87 [==============================] - 13s 152ms/step - loss: 0.1227 - accuracy: 0.8571 - val_loss: 0.1225 - val_accuracy: 0.8571\n",
            "Epoch 3/12\n",
            "87/87 [==============================] - 13s 153ms/step - loss: 0.1226 - accuracy: 0.8571 - val_loss: 0.1225 - val_accuracy: 0.8571\n",
            "Epoch 4/12\n",
            "87/87 [==============================] - 13s 153ms/step - loss: 0.1226 - accuracy: 0.8571 - val_loss: 0.1225 - val_accuracy: 0.8571\n",
            "Epoch 5/12\n",
            "87/87 [==============================] - 13s 150ms/step - loss: 0.1226 - accuracy: 0.8571 - val_loss: 0.1225 - val_accuracy: 0.8571\n",
            "Epoch 6/12\n",
            "87/87 [==============================] - 13s 149ms/step - loss: 0.1226 - accuracy: 0.8571 - val_loss: 0.1225 - val_accuracy: 0.8571\n",
            "Epoch 7/12\n",
            "87/87 [==============================] - 13s 149ms/step - loss: 0.1225 - accuracy: 0.8571 - val_loss: 0.1224 - val_accuracy: 0.8571\n",
            "Epoch 8/12\n",
            "87/87 [==============================] - 13s 152ms/step - loss: 0.1225 - accuracy: 0.8571 - val_loss: 0.1225 - val_accuracy: 0.8571\n",
            "Epoch 9/12\n",
            "87/87 [==============================] - 13s 154ms/step - loss: 0.1225 - accuracy: 0.8571 - val_loss: 0.1225 - val_accuracy: 0.8571\n",
            "Epoch 10/12\n",
            "87/87 [==============================] - 13s 151ms/step - loss: 0.1225 - accuracy: 0.8571 - val_loss: 0.1224 - val_accuracy: 0.8571\n",
            "Epoch 11/12\n",
            "87/87 [==============================] - 13s 149ms/step - loss: 0.1225 - accuracy: 0.8571 - val_loss: 0.1225 - val_accuracy: 0.8571\n",
            "Epoch 12/12\n",
            "87/87 [==============================] - 13s 149ms/step - loss: 0.1225 - accuracy: 0.8571 - val_loss: 0.1225 - val_accuracy: 0.8571\n"
          ],
          "name": "stdout"
        }
      ]
    },
    {
      "cell_type": "code",
      "metadata": {
        "colab": {
          "base_uri": "https://localhost:8080/"
        },
        "id": "GPU-9wizUidF",
        "outputId": "d459e7a7-ec15-4721-e75d-539799d0899f"
      },
      "source": [
        "train_loss, train_accuracy = mode.evaluate(x_train_padded, categorical_label_train, batch_size=64)\n",
        "train_accuracy"
      ],
      "execution_count": null,
      "outputs": [
        {
          "output_type": "stream",
          "text": [
            "108/108 [==============================] - 7s 62ms/step - loss: 0.1225 - accuracy: 0.8571\n"
          ],
          "name": "stdout"
        },
        {
          "output_type": "execute_result",
          "data": {
            "text/plain": [
              "0.8571420907974243"
            ]
          },
          "metadata": {
            "tags": []
          },
          "execution_count": 49
        }
      ]
    },
    {
      "cell_type": "code",
      "metadata": {
        "id": "N0jzOwlKJxO4",
        "colab": {
          "base_uri": "https://localhost:8080/"
        },
        "outputId": "8c019cee-3fb2-4a41-ad66-c1ab678566f9"
      },
      "source": [
        "testdata=pd.read_csv('/content/drive/MyDrive/persian_news/persian_news/test.csv', sep='\\t', encoding=\"utf-8\")\n",
        "\n",
        "sentence_test = data['content']\n",
        "label_test = data['label_id']\n",
        "\n",
        "print('Number of testing sentence: ', sentence_test.shape)\n",
        "print('Number of testing label: ', label_test.shape)"
      ],
      "execution_count": null,
      "outputs": [
        {
          "output_type": "stream",
          "text": [
            "Number of testing sentence:  (6896,)\n",
            "Number of testing label:  (6896,)\n"
          ],
          "name": "stdout"
        }
      ]
    },
    {
      "cell_type": "code",
      "metadata": {
        "id": "_7XGfJ0Cvsqd",
        "colab": {
          "base_uri": "https://localhost:8080/"
        },
        "outputId": "a6caf86b-baaf-4b42-df26-19b7ea80cc2d"
      },
      "source": [
        "x_test = np.asarray(x_test)\n",
        "y_test = np.asarray(y_test)\n",
        "\n",
        "# Applying preprocessing step to test data\n",
        "test_docs = np.empty_like(x_test)\n",
        "for index, document in enumerate(x_test):\n",
        "  test_docs[index] = clean_data(document)\n",
        "\n",
        "encoded_docs = tokenizer.texts_to_sequences(test_docs)\n",
        "x_test_padded = pad_sequences(encoded_docs, maxlen=max_length, padding='post')\n",
        "\n",
        "categorical_y_test = to_categorical(y_test, 7)\n",
        "\n",
        "loss, acc = mode.evaluate(x_test_padded, categorical_y_test, verbose=1)\n",
        "print('Test Accuracy: %f' % (acc*100))"
      ],
      "execution_count": null,
      "outputs": [
        {
          "output_type": "stream",
          "text": [
            "27/27 [==============================] - 1s 49ms/step - loss: 0.1225 - accuracy: 0.8571\n",
            "Test Accuracy: 85.714293\n"
          ],
          "name": "stdout"
        }
      ]
    },
    {
      "cell_type": "code",
      "metadata": {
        "id": "Xhd5KQJLtild"
      },
      "source": [
        "y_pred = model.predict_classes(x_test_padded)"
      ],
      "execution_count": null,
      "outputs": []
    },
    {
      "cell_type": "code",
      "metadata": {
        "colab": {
          "base_uri": "https://localhost:8080/"
        },
        "id": "tYkuW8sIaaFe",
        "outputId": "b1dc92d7-9729-4948-ad0e-edefcf91362f"
      },
      "source": [
        "content = []\n",
        "true_label_id = []\n",
        "pred_label_id = []\n",
        "اجتماعی = 0\n",
        "اقتصادی  = 0\n",
        "بین_الملل = 0\n",
        "سیاسی = 0\n",
        "علمی_فناوری  = 0\n",
        "فرهنگی_هنری = 0\n",
        "ورزشی = 0\n",
        "پزشکی = 0\n",
        "for i in range(len(y_pred)):\n",
        "  content.append(x_test[i])\n",
        "  true_label_id.append(y_test[i])\n",
        "\n",
        "  if y_pred[i] == 0:\n",
        "    اجتماعی +=1\n",
        "    pred_label_id.append(\"اجتماعی\")\n",
        "  elif y_pred[i] == 1:\n",
        "    اقتصادی +=1\n",
        "    pred_label_id.append(\"اقتصادی\")\n",
        "  elif y_pred[i] == 2:\n",
        "    بین_الملل +=1\n",
        "    pred_label_id.append(\"بین الملل\")\n",
        "  if y_pred[i] == 3:\n",
        "    سیاسی +=1\n",
        "    pred_label_id.append(\"سیاسی\")\n",
        "  elif y_pred[i] == 4:\n",
        "    علمی_فناوری +=1\n",
        "    pred_label_id.append(\"علمی فناوری\")\n",
        "  elif y_pred[i] == 5:\n",
        "    فرهنگی_هنری +=1\n",
        "    pred_label_id.append(\"فرهنگی هنری\")\n",
        "  elif y_pred[i] == 6:\n",
        "    ورزشی +=1\n",
        "    pred_label_id.append(\"ورزشی\")\n",
        "  elif y_pred[i] == 7:\n",
        "    پزشکی +=1\n",
        "    pred_label_id.append(\"پزشکی\")\n",
        "\n",
        "print(\"اجتماعی: \" , (اجتماعی/27)*100)\n",
        "print(\"اقتصادی: \" , (اقتصادی/27)*100)\n",
        "print(\"بین_الملل: \" , (بین_الملل/27)*100)\n",
        "print(\"سیاسی: \" , (سیاسی/27)*100)\n",
        "print(\"علمی_فناوری: \" , (علمی_فناوری/27)*100)\n",
        "print(\"فرهنگی_هنری: \" , (فرهنگی_هنری/27)*100)\n",
        "print(\"ورزشی: \" , (ورزشی/27)*100)\n",
        "print(\"پزشکی: \" , (پزشکی/27)*100)"
      ],
      "execution_count": null,
      "outputs": [
        {
          "output_type": "stream",
          "text": [
            "اجتماعی:  11.11111111111111\n",
            "اقتصادی:  51.85185185185185\n",
            "بین_الملل:  0.0\n",
            "سیاسی:  0.0\n",
            "علمی_فناوری:  555.5555555555555\n",
            "فرهنگی_هنری:  5325.925925925926\n",
            "ورزشی:  11.11111111111111\n",
            "پزشکی:  133.33333333333331\n"
          ],
          "name": "stdout"
        }
      ]
    },
    {
      "cell_type": "code",
      "metadata": {
        "colab": {
          "base_uri": "https://localhost:8080/",
          "height": 736
        },
        "id": "I-cTiEspbXA5",
        "outputId": "37da2175-754f-41cc-f637-a95c8a3b081a"
      },
      "source": [
        "dataFrame = pd.DataFrame({\"content\":content, \"true_label_id\":true_label_id, \"prediction label\":pred_label_id})\n",
        "dataFrame.to_csv('/content/drive/MyDrive/persian_news/persian_news/train.csv', sep='\\t', index=False)\n",
        "\n",
        "label = ['social', 'Economic', 'The International', 'Political', 'Scientific_technology', 'Cultural_art', 'Sports', 'medical']\n",
        "y_pred = [np.argmax(i) for i in model.predict(x_test_padded)]\n",
        "cm  = confusion_matrix(y_test, y_pred)\n",
        "plt.figure()\n",
        "plot_confusion_matrix(cm, figsize=(16,12), hide_ticks=True, cmap=plt.cm.Blues)\n",
        "plt.xticks(range(7), label, fontsize=12)\n",
        "plt.yticks(range(7), label, fontsize=12)\n",
        "plt.show()"
      ],
      "execution_count": null,
      "outputs": [
        {
          "output_type": "display_data",
          "data": {
            "text/plain": [
              "<Figure size 432x288 with 0 Axes>"
            ]
          },
          "metadata": {
            "tags": []
          }
        },
        {
          "output_type": "display_data",
          "data": {
            "image/png": "[encoded data removed]",
            "text/plain": [
              "<Figure size 1152x864 with 1 Axes>"
            ]
          },
          "metadata": {
            "tags": [],
            "needs_background": "light"
          }
        }
      ]
    },
    {
      "cell_type": "code",
      "metadata": {
        "colab": {
          "base_uri": "https://localhost:8080/"
        },
        "id": "_x-ECt5JikOg",
        "outputId": "421327f1-afff-45d1-e76e-2cb36b983d6b"
      },
      "source": [
        "def modelDemo(news_content):\n",
        "\n",
        "  #News Label\n",
        "  label = [' اجتماعی', 'اقتصادی', ' بین_الملل ', 'سیاسی', 'علمی_فناوری ', ' فرهنگی_هنری', 'ورزشی', 'پزشکی']\n",
        "  test_seq = pad_sequences(tokenizer.texts_to_sequences(news_content), maxlen=max_length)\n",
        "  y_pred = [label[np.argmax(i)] for i in mode.predict(test_seq)]\n",
        "\n",
        "  for news, label in zip(news_content, y_pred):\n",
        "      print('{} - {}'.format(colored(news, 'green'), colored(label, 'red')))\n",
        "\n",
        "from termcolor import colored\n",
        "\n",
        "modelDemo(['این تحقیقات پس از انجام جراحی و خارج کردن تومور ملانوم از بدن موش‌ها، محققان محل زخم جراحی را با استفاده از افشانه کلسیم کربنات آغشته کردندم.'])"
      ],
      "execution_count": null,
      "outputs": [
        {
          "output_type": "stream",
          "text": [
            "\u001b[32mاین تحقیقات پس از انجام جراحی و خارج کردن تومور ملانوم از بدن موش‌ها، محققان محل زخم جراحی را با استفاده از افشانه کلسیم کربنات آغشته کردندم.\u001b[0m - \u001b[31m فرهنگی_هنری\u001b[0m\n"
          ],
          "name": "stdout"
        }
      ]
    }
  ]
}